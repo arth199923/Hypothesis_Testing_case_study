{
 "cells": [
  {
   "cell_type": "code",
   "execution_count": 114,
   "id": "ce83d359",
   "metadata": {},
   "outputs": [],
   "source": [
    "import numpy as np\n",
    "import pandas as pd\n",
    "import scipy.stats as stats"
   ]
  },
  {
   "cell_type": "markdown",
   "id": "5b343f89",
   "metadata": {},
   "source": [
    "# BUSINESS PROBLEM-1"
   ]
  },
  {
   "cell_type": "code",
   "execution_count": 117,
   "id": "7a482244",
   "metadata": {},
   "outputs": [
    {
     "data": {
      "text/plain": [
       "Ttest_indResult(statistic=15.93718567524791, pvalue=1.5634228323524613e-54)"
      ]
     },
     "execution_count": 117,
     "metadata": {},
     "output_type": "execute_result"
    }
   ],
   "source": [
    "#a. Intrest rate is varied for different loan amounts (Less intrest charged for high loan amounts)\n",
    "    #test usage: 2 sample t test\n",
    "    #H0: same interest rate for low and high amounts\n",
    "    #H1: Less intrest charged for high loan amounts\n",
    "\n",
    "loan=pd.read_csv('LoansData.csv')\n",
    "loan = loan.dropna(subset=['Amount.Requested'])\n",
    "loan = loan.dropna(subset=['Interest.Rate'])\n",
    "high_loan_threshold = 15000\n",
    "high_loan_group = loan[loan['Amount.Requested'] >= high_loan_threshold]\n",
    "low_loan_group = loan[loan['Amount.Requested'] < high_loan_threshold]\n",
    "stats.ttest_ind(high_loan_group['Interest.Rate'].str.replace('%', '').astype(float),low_loan_group['Interest.Rate'].str.replace('%', '').astype(float))\n",
    "\n",
    "#result for que a.\n",
    "  #assume alpha=0.01\n",
    "   # since pvalue<alpha\n",
    "   # =>reject null hypothesis or accept alternative hypothesis\n",
    "   # so yes less interest tends to be charged for high loan amounts compared to low loan amounts."
   ]
  },
  {
   "cell_type": "code",
   "execution_count": 68,
   "id": "e6ba49bf",
   "metadata": {},
   "outputs": [
    {
     "data": {
      "text/plain": [
       "PearsonRResult(statistic=0.42421960276133236, pvalue=1.0952664487977025e-109)"
      ]
     },
     "execution_count": 68,
     "metadata": {},
     "output_type": "execute_result"
    }
   ],
   "source": [
    "#b. Loan length is directly effecting intrest rate.\n",
    "          #for two numerical variables use pearsonr test\n",
    "    #H0: loan length is not effecting interest rate\n",
    "    #H1: loan length is effecting interest rate  \n",
    "    \n",
    "loan_length = loan['Loan.Length'].str.extract('(\\d+)').astype(int).squeeze()\n",
    "\n",
    "interest_rate = loan['Interest.Rate'].str.replace('%', '').astype(float)\n",
    "\n",
    "stats.pearsonr(loan_length,interest_rate)\n",
    "\n",
    "#result for que b.\n",
    "  #assume alpha=0.01\n",
    "   # since pvalue<alpha\n",
    "   # =>reject null hypothesis and sign of test statistic is positive here\n",
    "   # so yes there is a postive relation between loan length and inteest rate"
   ]
  },
  {
   "cell_type": "code",
   "execution_count": 69,
   "id": "75896842",
   "metadata": {},
   "outputs": [
    {
     "data": {
      "text/plain": [
       "F_onewayResult(statistic=7.481404351302254, pvalue=1.1686298123677374e-14)"
      ]
     },
     "execution_count": 69,
     "metadata": {},
     "output_type": "execute_result"
    }
   ],
   "source": [
    "#c. Inrest rate varies for different purpose of loans\n",
    "      #test usage: use anova test\n",
    "    #H0: Inrest rate is same for different purpose of loans\n",
    "    #H1: Inrest rate varies for different purpose of loans\n",
    "    \n",
    "# to extract different purposes of loans \n",
    "p1=loan[loan['Loan.Purpose']=='debt_consolidation']['Interest.Rate'].str.replace('%', '').astype(float)\n",
    "p2=loan[loan['Loan.Purpose']=='credit_card']['Interest.Rate'].str.replace('%', '').astype(float)\n",
    "p3=loan[loan['Loan.Purpose']=='other']['Interest.Rate'].str.replace('%', '').astype(float)\n",
    "p4=loan[loan['Loan.Purpose']=='moving']['Interest.Rate'].str.replace('%', '').astype(float)\n",
    "p5=loan[loan['Loan.Purpose']=='car']['Interest.Rate'].str.replace('%', '').astype(float)\n",
    "p6=loan[loan['Loan.Purpose']=='vacation']['Interest.Rate'].str.replace('%', '').astype(float)\n",
    "p7=loan[loan['Loan.Purpose']=='home_improvement']['Interest.Rate'].str.replace('%', '').astype(float)\n",
    "p8=loan[loan['Loan.Purpose']=='house']['Interest.Rate'].str.replace('%', '').astype(float)\n",
    "p9=loan[loan['Loan.Purpose']=='major_purchase']['Interest.Rate'].str.replace('%', '').astype(float)\n",
    "p10=loan[loan['Loan.Purpose']=='educational']['Interest.Rate'].str.replace('%', '').astype(float)\n",
    "p11=loan[loan['Loan.Purpose']=='medical']['Interest.Rate'].str.replace('%', '').astype(float)\n",
    "p12=loan[loan['Loan.Purpose']=='wedding']['Interest.Rate'].str.replace('%', '').astype(float)\n",
    "p13=loan[loan['Loan.Purpose']=='small_business']['Interest.Rate'].str.replace('%', '').astype(float)\n",
    "p14=loan[loan['Loan.Purpose']=='renewable_energy']['Interest.Rate'].str.replace('%', '').astype(float)\n",
    "\n",
    "stats.f_oneway(p1, p2, p3, p4, p5, p6, p7, p8, p9, p10, p11, p12, p13, p14)\n",
    "\n",
    "#result for que c.\n",
    "  #assume alpha=0.01\n",
    "   # since pvalue<alpha\n",
    "   # =>reject null hypothesis\n",
    "   # so yes Inrest rate varies for different purpose of loans"
   ]
  },
  {
   "cell_type": "code",
   "execution_count": 70,
   "id": "8c243a41",
   "metadata": {},
   "outputs": [
    {
     "data": {
      "text/plain": [
       "(472.84454839058765, 1.291982633042031e-35)"
      ]
     },
     "execution_count": 70,
     "metadata": {},
     "output_type": "execute_result"
    }
   ],
   "source": [
    "#d. There is relationship between FICO scores and Home Ownership. It means that, People\n",
    "#with owning home will have high FICO scores.\n",
    "    #for two numerical variables use chi-square test\n",
    "    #H0: There is no relationship between FICO scores and Home Ownership.\n",
    "    #H1: There is relationship between FICO scores and Home Ownership.\n",
    "    \n",
    "a=loan['FICO.Range']\n",
    "b=loan['Home.Ownership']\n",
    "obs_frq=pd.crosstab(a,b)\n",
    "statist,pval,d,f=stats.chi2_contingency(obs_frq)\n",
    "statist,pval\n",
    "\n",
    "\n",
    "#result for que d.\n",
    "  #assume alpha=0.01\n",
    "   # since pvalue<alpha\n",
    "   # =>reject null hypothesis\n",
    "   # so yes There is relationship between FICO scores and Home Ownership."
   ]
  },
  {
   "cell_type": "code",
   "execution_count": 28,
   "id": "b39e240b",
   "metadata": {},
   "outputs": [],
   "source": [
    "##############################################################################################################################"
   ]
  },
  {
   "cell_type": "markdown",
   "id": "ebe4a1c4",
   "metadata": {},
   "source": [
    "# BUSINESS PROBLEM - 2"
   ]
  },
  {
   "cell_type": "code",
   "execution_count": 29,
   "id": "9f8533ed",
   "metadata": {},
   "outputs": [
    {
     "data": {
      "text/plain": [
       "TtestResult(statistic=2.5213765108923494, pvalue=0.02840588045242053, df=11)"
      ]
     },
     "execution_count": 29,
     "metadata": {},
     "output_type": "execute_result"
    }
   ],
   "source": [
    "#que: We would like to assess if there is any difference in the average price quotes provided by Mary and Barry.\n",
    "    #test use: since prices are coming for same orders use paired t test\n",
    "    #H0: μ_Mary = μ_Barry \n",
    "    #H1: μ_Mary ≠ μ_Barry (we are doing 2 tailed test)\n",
    "    \n",
    "price=pd.read_csv('Price_Quotes.csv') \n",
    "stats.ttest_rel(price.Barry_Price,price.Mary_Price)\n",
    "#result for business problem 2\n",
    "#assume alpha=0.01\n",
    "   # since pvalue>alpha\n",
    "   # =>we cannot reject null hypothesis\n",
    "   # so there no difference in the average price quotes provided by Mary and Barry.\n",
    "    "
   ]
  },
  {
   "cell_type": "code",
   "execution_count": 30,
   "id": "8e1f902b",
   "metadata": {},
   "outputs": [],
   "source": [
    "##############################################################################################################################"
   ]
  },
  {
   "cell_type": "markdown",
   "id": "c958acf8",
   "metadata": {},
   "source": [
    "# BUSINESS PROBLEM - 3"
   ]
  },
  {
   "cell_type": "code",
   "execution_count": 32,
   "id": "d2c80fb0",
   "metadata": {},
   "outputs": [],
   "source": [
    "treat=pd.read_csv('Treatment_Facility.csv')"
   ]
  },
  {
   "cell_type": "code",
   "execution_count": 33,
   "id": "57bbeb1f",
   "metadata": {},
   "outputs": [
    {
     "data": {
      "text/plain": [
       "Ttest_indResult(statistic=-1.770306704753604, pvalue=0.09361109345535304)"
      ]
     },
     "execution_count": 33,
     "metadata": {},
     "output_type": "execute_result"
    }
   ],
   "source": [
    "# is there any reenginnering effect on staff turnover\n",
    "   #test usage : use 2 sample t test\n",
    "        #H0: there is no effect of reeingineering on turnover\n",
    "        #H1: there is effect of reeingineering on turnover\n",
    "        \n",
    "prior_data_empl = treat[treat['Reengineer'] == 'Prior']['Employee_Turnover']\n",
    "post_data_empl = treat[treat['Reengineer'] == 'Post']['Employee_Turnover']\n",
    "stats.ttest_ind(prior_data_empl,post_data_empl)\n",
    "\n",
    "# assume alpha=0.01\n",
    "   #since pvalue>alpha\n",
    "    #=> we cannot reject null hypothesis\n",
    "    #conclusion: there is no significant impact of reengineering on staff turnover        "
   ]
  },
  {
   "cell_type": "code",
   "execution_count": 236,
   "id": "a039dc2b",
   "metadata": {},
   "outputs": [
    {
     "data": {
      "text/plain": [
       "Ttest_indResult(statistic=1.627914425352865, pvalue=0.12091989189884148)"
      ]
     },
     "execution_count": 236,
     "metadata": {},
     "output_type": "execute_result"
    }
   ],
   "source": [
    "#is there any reenginnering effect on incidence behavioral problems (i.e :critical incidence rate)\n",
    "#Is there evidence that the critical incidence rate improved?\n",
    "  #test usage : use 2 sample t test\n",
    "        #H0: pre_ci=post_ci\n",
    "        #H1: pre_ci>post_ci (1 tail test , so divide pvalue by 2)\n",
    "        \n",
    "prior_data_ci = treat[treat['Reengineer'] == 'Prior']['VAR5']\n",
    "post_data_ci = treat[treat['Reengineer'] == 'Post']['VAR5']\n",
    "stats.ttest_ind(prior_data_ci,post_data_ci)\n",
    "# assume alpha=0.01\n",
    "   #since pvalue>alpha\n",
    "    #=> we cannot reject null hypothesis\n",
    "    #conclusion: there is no significant impact of reengineering on critical incidence rate a\n",
    "                #and thus not critical incidence rate doesnot improved        "
   ]
  },
  {
   "cell_type": "code",
   "execution_count": 237,
   "id": "d646d012",
   "metadata": {},
   "outputs": [],
   "source": [
    "###############################################################################################################################"
   ]
  },
  {
   "cell_type": "markdown",
   "id": "bc0bc84a",
   "metadata": {},
   "source": [
    "# BUSINESS PROBLEM - 4"
   ]
  },
  {
   "cell_type": "code",
   "execution_count": 239,
   "id": "6e56aacf",
   "metadata": {},
   "outputs": [],
   "source": [
    "access=pd.read_csv('Priority_Assessment.csv')"
   ]
  },
  {
   "cell_type": "code",
   "execution_count": 240,
   "id": "fc94d846",
   "metadata": {},
   "outputs": [
    {
     "data": {
      "text/plain": [
       "F_onewayResult(statistic=1.812311010076072, pvalue=0.16411459461716182)"
      ]
     },
     "execution_count": 240,
     "metadata": {},
     "output_type": "execute_result"
    }
   ],
   "source": [
    "#que: is time duration for high_priority<medium_priority<low_priority\n",
    "    #test usage : fisrt use ANOVA to if there any difference among three priorities if we find any difference then \n",
    "                 #we will use 2 sample t test\n",
    "        \n",
    "        #H0:high_priority=medium_priority=low_priority\n",
    "        #H1:not all equal\n",
    "        \n",
    "hig=access[access['Priority']=='High']['Days']\n",
    "med=access[access['Priority']=='Medium']['Days']\n",
    "lo=access[access['Priority']=='Low']['Days']\n",
    "stats.f_oneway(hig,med,lo)\n",
    "\n",
    "# assume alpha=0.01\n",
    "   #since pvalue>alpha\n",
    "    #=> we cannot reject null hypothesis\n",
    "    #  there is no significant difference in completion time among high , medium and low"
   ]
  },
  {
   "cell_type": "code",
   "execution_count": 241,
   "id": "46b7e19a",
   "metadata": {},
   "outputs": [],
   "source": [
    "###############################################################################################################################"
   ]
  },
  {
   "cell_type": "markdown",
   "id": "bd3eab0e",
   "metadata": {},
   "source": [
    "# BUSINESS PROBLEM - 5"
   ]
  },
  {
   "cell_type": "code",
   "execution_count": 243,
   "id": "37a16d1f",
   "metadata": {},
   "outputs": [],
   "source": [
    "film=pd.read_csv('Films.csv')"
   ]
  },
  {
   "cell_type": "code",
   "execution_count": 244,
   "id": "e1162956",
   "metadata": {},
   "outputs": [],
   "source": [
    "#data cleansing\n",
    "film[\"Gender\"] = film[\"Gender\"].replace({\"Male\": 1, \"Female\": 2})\n",
    "film[\"Marital_Status\"] = film[\"Marital_Status\"].replace({\"Married\": 1, \"Single\": 2,\"Slngle\":2})\n"
   ]
  },
  {
   "cell_type": "code",
   "execution_count": 258,
   "id": "00f889a8",
   "metadata": {},
   "outputs": [
    {
     "data": {
      "text/plain": [
       "_rowstate_        0\n",
       "Movie             0\n",
       "Gender            0\n",
       "Marital_Status    0\n",
       "Sinage            0\n",
       "Parking           0\n",
       "Clean             0\n",
       "Overall           0\n",
       "Age               0\n",
       "Income            0\n",
       "Hear_About        0\n",
       "dtype: int64"
      ]
     },
     "execution_count": 258,
     "metadata": {},
     "output_type": "execute_result"
    }
   ],
   "source": [
    "np.sum(film.isna())  #to check null values"
   ]
  },
  {
   "cell_type": "code",
   "execution_count": 246,
   "id": "ec8c2bf7",
   "metadata": {},
   "outputs": [],
   "source": [
    "# to treat null values\n",
    "film['Marital_Status'] =film['Marital_Status'].fillna(film['Marital_Status'].mode()[0])\n",
    "film['Sinage'] =film['Sinage'].fillna(film['Sinage'].mode()[0])\n",
    "film['Parking'] =film['Parking'].fillna(film['Parking'].mode()[0])\n",
    "film['Clean'] =film['Clean'].fillna(film['Clean'].mode()[0])\n",
    "film['Overall'] =film['Overall'].fillna(film['Overall'].mode()[0])\n",
    "film['Age'] =film['Age'].fillna(film['Age'].mode()[0])\n",
    "film['Income'] =film['Income'].fillna(film['Income'].mode()[0])\n",
    "film['Hear_About'] =film['Hear_About'].fillna(film['Hear_About'].mode()[0])\n"
   ]
  },
  {
   "cell_type": "code",
   "execution_count": 247,
   "id": "fa7d20c8",
   "metadata": {},
   "outputs": [
    {
     "data": {
      "text/plain": [
       "TtestResult(statistic=-36.414613050387636, pvalue=1.8889926235938796e-117, df=329)"
      ]
     },
     "execution_count": 247,
     "metadata": {},
     "output_type": "execute_result"
    }
   ],
   "source": [
    "#que1: What is the overall level of customer satisfaction?\n",
    "      #test usage= 1 sample t test\n",
    "       #H0 = assume The overall satisfaction is equal to 3 (Average/fair)\n",
    "       #H1:overall satisfaction<3\n",
    "    \n",
    "stats.ttest_1samp(a=film['Overall'],popmean=3)\n",
    "\n",
    "#result:\n",
    "       # assume alpha=0.01\n",
    "        #since pvalue<alpha\n",
    "         #=> we reject null hypothesis\n",
    "           #so  overall satisfaction was above average\n",
    "       "
   ]
  },
  {
   "cell_type": "code",
   "execution_count": 248,
   "id": "7af7a8b3",
   "metadata": {},
   "outputs": [],
   "source": [
    "#que2: What factors are linked to satisfaction?\n",
    "   #test usage: since factors are coming from same group of entities =>1 sample t test\n",
    "\n",
    "    #Note:1 = Excellent; 2 = Good; 3 = Average/Fair; 4 = Poor; 5 = Very Poor    \n",
    "               #so higher value means lower satisfaction"
   ]
  },
  {
   "cell_type": "code",
   "execution_count": 249,
   "id": "a05caa6e",
   "metadata": {},
   "outputs": [
    {
     "data": {
      "text/plain": [
       "TtestResult(statistic=2.7612724551366052, pvalue=0.006080831876236362, df=329)"
      ]
     },
     "execution_count": 249,
     "metadata": {},
     "output_type": "execute_result"
    }
   ],
   "source": [
    "# case:1 Signage vs parking\n",
    "       #H0: Signage=parking\n",
    "       #H1:not equal\n",
    "stats.ttest_rel(film.Sinage,film.Parking)\n",
    "\n",
    "#result: \n",
    "      #alpha=0.01\n",
    "      #pvalue<alpha\n",
    "        #reject null hypothesis\n",
    "        #we can see that sign of test statistic is positive\n",
    "        #so, Signage>parking(value wise)\n",
    "           #=> satisfaction from parking > satisfaction from Signage"
   ]
  },
  {
   "cell_type": "code",
   "execution_count": 250,
   "id": "d1c6609f",
   "metadata": {},
   "outputs": [
    {
     "data": {
      "text/plain": [
       "TtestResult(statistic=4.080666672346266, pvalue=5.6408373173926296e-05, df=329)"
      ]
     },
     "execution_count": 250,
     "metadata": {},
     "output_type": "execute_result"
    }
   ],
   "source": [
    "# case:2 Signage vs clean\n",
    "stats.ttest_rel(film.Sinage,film.Clean)\n",
    "#result: \n",
    "      #alpha=0.01\n",
    "      #pvalue<alpha\n",
    "        #reject null hypothesis\n",
    "        #we can see that sign of test statistic is positive\n",
    "        #so, Signage>clean(value wise)\n",
    "           #=> satisfaction from cleanliness > satisfaction from Signage"
   ]
  },
  {
   "cell_type": "code",
   "execution_count": 251,
   "id": "36cb26f0",
   "metadata": {},
   "outputs": [
    {
     "data": {
      "text/plain": [
       "TtestResult(statistic=1.637145197954456, pvalue=0.10255623905120752, df=329)"
      ]
     },
     "execution_count": 251,
     "metadata": {},
     "output_type": "execute_result"
    }
   ],
   "source": [
    "# case:3 parking vs clean\n",
    "stats.ttest_rel(film.Parking,film.Clean)\n",
    "#result: \n",
    "      #alpha=0.01\n",
    "      #pvalue>alpha\n",
    "        # we can't reject null hypothesis\n",
    "        #so, there is no significant difference between satisfaction from cleanliness and satisfaction from Signage"
   ]
  },
  {
   "cell_type": "code",
   "execution_count": 252,
   "id": "01de13a8",
   "metadata": {},
   "outputs": [],
   "source": [
    "###### conclusion for que2:  we are getting better satisfaction from parking and cleanliness as compared to Signage"
   ]
  },
  {
   "cell_type": "code",
   "execution_count": null,
   "id": "3996b084",
   "metadata": {},
   "outputs": [],
   "source": []
  },
  {
   "cell_type": "code",
   "execution_count": 253,
   "id": "70c2c0a1",
   "metadata": {},
   "outputs": [],
   "source": [
    "#que3: What is the demographic profile of Film on the Rocks patrons?\n",
    "  #Note:1 = Excellent; 2 = Good; 3 = Average/Fair; 4 = Poor; 5 = Very Poor    \n",
    "               #so higher value means lower satisfaction"
   ]
  },
  {
   "cell_type": "code",
   "execution_count": 254,
   "id": "6da8ca54",
   "metadata": {},
   "outputs": [
    {
     "data": {
      "text/plain": [
       "Ttest_indResult(statistic=2.5888027174359816, pvalue=0.01471174342681416)"
      ]
     },
     "execution_count": 254,
     "metadata": {},
     "output_type": "execute_result"
    }
   ],
   "source": [
    "# male satisfaction vs female satisfaction\n",
    "   #H0: male satisfaction = female satisfaction\n",
    "   #\n",
    "male_satisfaction = film[film['Gender'] == 1]['Overall']\n",
    "female_satisfaction = film[film['Gender'] == 2]['Overall']\n",
    "\n",
    "\n",
    "stats.ttest_ind(male_satisfaction, female_satisfaction)\n",
    "#result: divide pvalue by since we are doing 1-tail test\n",
    "      #alpha=0.01\n",
    "      #pvalue<alpha\n",
    "        #reject null hypothesis\n",
    "        #we can see that sign of test statistic is positive\n",
    "        #so, male>female(value wise)\n",
    "           #=> female satisfaction> male satisfaction"
   ]
  },
  {
   "cell_type": "code",
   "execution_count": 255,
   "id": "e4c587e4",
   "metadata": {},
   "outputs": [
    {
     "data": {
      "text/plain": [
       "Ttest_indResult(statistic=-2.5888027174359816, pvalue=0.01471174342681416)"
      ]
     },
     "execution_count": 255,
     "metadata": {},
     "output_type": "execute_result"
    }
   ],
   "source": [
    "#couples vs singles satisfaction\n",
    "single_satisfaction = film[film['Gender'] == 2]['Overall']\n",
    "couple_satisfaction = film[film['Gender'] == 1]['Overall']\n",
    "\n",
    "\n",
    "stats.ttest_ind(single_satisfaction, couple_satisfaction)\n",
    "#result: divide pvalue by since we are doing 1-tail test\n",
    "      #alpha=0.01\n",
    "      #pvalue<alpha\n",
    "        #reject null hypothesis\n",
    "        #we can see that sign of test statistic is negative\n",
    "        #so, single<couple(value wise)\n",
    "           #=> single satisfaction> couples satisfaction"
   ]
  },
  {
   "cell_type": "code",
   "execution_count": 256,
   "id": "196f41ad",
   "metadata": {},
   "outputs": [],
   "source": [
    "#que4:In what media outlet(s) should the film series be advertised?\n",
    "    # we can do this directly by using value_count (to know mode) of Hear_about column"
   ]
  },
  {
   "cell_type": "code",
   "execution_count": 257,
   "id": "b014e0d8",
   "metadata": {},
   "outputs": [
    {
     "data": {
      "text/plain": [
       "5      233\n",
       "4       41\n",
       "1       22\n",
       "3       14\n",
       "2       12\n",
       "2,5      2\n",
       "3,4      2\n",
       "4,5      1\n",
       "1,5      1\n",
       "5,4      1\n",
       "3,5      1\n",
       "Name: Hear_About, dtype: int64"
      ]
     },
     "execution_count": 257,
     "metadata": {},
     "output_type": "execute_result"
    }
   ],
   "source": [
    "film['Hear_About'].value_counts()\n",
    " #since frequency of 5 is maximum and we know 5 is word of mouth\n",
    "    #so film series should be advertised : word of mouth"
   ]
  }
 ],
 "metadata": {
  "kernelspec": {
   "display_name": "Python 3 (ipykernel)",
   "language": "python",
   "name": "python3"
  },
  "language_info": {
   "codemirror_mode": {
    "name": "ipython",
    "version": 3
   },
   "file_extension": ".py",
   "mimetype": "text/x-python",
   "name": "python",
   "nbconvert_exporter": "python",
   "pygments_lexer": "ipython3",
   "version": "3.11.3"
  }
 },
 "nbformat": 4,
 "nbformat_minor": 5
}
